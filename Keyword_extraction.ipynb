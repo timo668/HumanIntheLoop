{
 "cells": [
  {
   "cell_type": "markdown",
   "source": [
    "In Block C, I have web-scraped the page and created the following dataset:\n",
    "\n",
    "# Dataset:\n",
    "I am creating a dataset with the following columns:\n",
    "ID: A unique identifier for each article.\n",
    "Title: The title of the article.\n",
    "Description: A brief summary or description of the article.\n",
    "Author: The author of the article.\n",
    "Date: The publication date of the article.\n",
    "Subject: The topic or category to which the article belongs.\n",
    "Text: The full text of the article.\n",
    "Keywords: Keywords describing the article.\n",
    "\n",
    "Within the nu.nl website, there are 6 main categories:\n",
    "1. Frontpage\n",
    "2. Economy\n",
    "3. Sports\n",
    "4. Media and Culture\n",
    "5. Gossip\n",
    "6. Other\n",
    "\n",
    "Within these main categories, there are further subcategories. For example, within Economy, there is Tech, and within Sports, there is skating.\n",
    "\n",
    "The dataset from nu.nl has several issues:\n",
    "- Some fields only have the subject as a keyword. (Keywords from the text need to be added to these)\n",
    "- Other keyword fields are missing keywords from the article, such as the city or province.\n",
    "- The main subject is missing in some articles. For example, an article about skating is categorized as skating but not under the sports category.\n",
    "- In my design, users should be able to follow topics, people, cities, and countries to see news related to those. Currently, the data is not structured in such a way."
   ],
   "metadata": {
    "collapsed": false
   },
   "id": "7ed9ec0123479ad0"
  },
  {
   "cell_type": "markdown",
   "source": [
    "First, I will ensure to fill in the empty keyword fields with Spacy."
   ],
   "metadata": {
    "collapsed": false
   },
   "id": "87a237fadec6de76"
  },
  {
   "cell_type": "code",
   "execution_count": 2,
   "outputs": [
    {
     "name": "stdout",
     "output_type": "stream",
     "text": [
      "<class 'pandas.core.frame.DataFrame'>\n",
      "RangeIndex: 458 entries, 0 to 457\n",
      "Data columns (total 8 columns):\n",
      " #   Column       Non-Null Count  Dtype \n",
      "---  ------       --------------  ----- \n",
      " 0   ID           458 non-null    int64 \n",
      " 1   Title        458 non-null    object\n",
      " 2   Description  458 non-null    object\n",
      " 3   Author       458 non-null    object\n",
      " 4   Date         458 non-null    object\n",
      " 5   Subject      458 non-null    object\n",
      " 6   Text         458 non-null    object\n",
      " 7   Keywords     458 non-null    object\n",
      "dtypes: int64(1), object(7)\n",
      "memory usage: 28.8+ KB\n"
     ]
    }
   ],
   "source": [
    "# Import \n",
    "import spacy\n",
    "import pandas as pd\n",
    "from openai import OpenAI\n",
    "import os\n",
    "from dotenv import load_dotenv\n",
    "\n",
    "load_dotenv()\n",
    "apiKey = os.environ.get('OPENAI_API_KEY')\n",
    "\n",
    "# Read the dataset\n",
    "df = pd.read_csv('nu-articles-v2.csv')\n",
    "df.info()"
   ],
   "metadata": {
    "collapsed": false,
    "ExecuteTime": {
     "end_time": "2024-04-03T14:12:56.317819Z",
     "start_time": "2024-04-03T14:12:46.809071Z"
    }
   },
   "id": "61dfcbe24bac6b67"
  },
  {
   "cell_type": "code",
   "execution_count": 2,
   "outputs": [
    {
     "name": "stdout",
     "output_type": "stream",
     "text": [
      "                                         Description  \\\n",
      "0  Werknemers krijgen geen wettelijk recht op thu...   \n",
      "1  Common en Jennifer Hudson hebben laten weten d...   \n",
      "2  Ondanks de afgesproken radiostilte tijdens de ...   \n",
      "3  We vinden het heel belangrijk om te weten welk...   \n",
      "4  De pepernoten... pardon, kruidnoten liggen alw...   \n",
      "\n",
      "                                            Keywords  \\\n",
      "0  Politiek, Werk, Economie, Binnenland, NUjij, T...   \n",
      "1                        Achterklap, Jennifer Hudson   \n",
      "2                            Politiek, Formatie 2023   \n",
      "3                                      Nieuws, NU.nl   \n",
      "4                       Sinterklaas, Eten en Drinken   \n",
      "\n",
      "                                  Extracted_Keywords  \n",
      "0                                Eerste Kamer, NUjij  \n",
      "1                            Jennifer Hudson, Hudson  \n",
      "2  BBB, Geert Wilders, Dilan Yesilgöz, VVD, NSC, PVV  \n",
      "3                                                     \n",
      "4                                                     \n"
     ]
    }
   ],
   "source": [
    "# load the Dutch language model from spaCy\n",
    "nlp = spacy.load(\"nl_core_news_lg\")\n",
    "\n",
    "# Function to extract and format keywords from text\n",
    "def extract_keywords(text):\n",
    "    # Process the text using the loaded Dutch language model\n",
    "    doc = nlp(text)\n",
    "    # Extract named entities of certain types (PERSON, ORG, LOC, GPE, ANIMAL)\n",
    "    named_entities = set([entity.text for entity in doc.ents if entity.label_ in [\"PERSON\", \"ORG\", \"LOC\", \"GPE\", \"ANIMAL\"]])\n",
    "    # Join the extracted entities into a comma-separated string\n",
    "    return ', '.join(named_entities)\n",
    "\n",
    "\n",
    "# Apply the function to the 'Description' column of DataFrame\n",
    "df['Extracted_Keywords'] = df[['Title', 'Description']].apply(lambda x: extract_keywords(' '.join(x)), axis=1)\n",
    "\n",
    "# Display the DataFrame with 'Description', 'Keywords', and 'Extracted_Keywords' columns\n",
    "print(df[['Description', 'Keywords', 'Extracted_Keywords']].head())\n"
   ],
   "metadata": {
    "collapsed": false,
    "ExecuteTime": {
     "end_time": "2024-04-03T13:41:17.944561Z",
     "start_time": "2024-04-03T13:41:07.639100Z"
    }
   },
   "id": "77144a5b3274ed14"
  },
  {
   "cell_type": "markdown",
   "source": [
    "The individuals, organizations, locations, countries, and animals are now in the extracted keywords. Because the current keyword list is a mess, I want to bring the following structure: The first keyword becomes the subject, followed by the specified keywords from nu.nl and my keywords combined"
   ],
   "metadata": {
    "collapsed": false
   },
   "id": "c4e07b6442ccae09"
  },
  {
   "cell_type": "code",
   "execution_count": 3,
   "outputs": [],
   "source": [
    "# Remove the subject from keywords and extracted_keywords if present\n",
    "# Loop through 'Keywords' and 'Extracted_Keywords' columns\n",
    "for col in ['Keywords', 'Extracted_Keywords']:\n",
    "    # Apply lambda function to each row to remove subject from keywords\n",
    "    df[col] = df.apply(lambda row: ', '.join([kw.strip() for kw in row[col].split(',') if kw.strip() != row['Subject'].strip()]), axis=1)\n",
    "\n",
    "# Combine columns and remove duplicates\n",
    "# Combine 'Subject', 'Keywords', and 'Extracted_Keywords' into 'Combined' column\n",
    "df['Combined'] = df['Subject'].str.strip()  + ', ' + df['Keywords'] + ', ' + df['Extracted_Keywords']\n",
    "# Apply lambda function to sort and remove duplicates\n",
    "df['Combined'] = df['Combined'].apply(lambda x: ', '.join(sorted(set(x.split(', ')), key=x.index)))\n",
    "\n",
    "# Remove any leading commas from the combined string\n",
    "df['Combined'] = df['Combined'].str.strip(', ')\n",
    "\n",
    "# Copy the content of the 'Combined' column to the 'Keywords' column\n",
    "df['Keywords'] = df['Combined']\n",
    "\n",
    "# Remove the 'Combined' and 'Extracted_Keywords' columns\n",
    "df.drop(['Combined', 'Extracted_Keywords'], axis=1, inplace=True)\n"
   ],
   "metadata": {
    "collapsed": false,
    "ExecuteTime": {
     "end_time": "2024-04-03T13:41:25.181911Z",
     "start_time": "2024-04-03T13:41:25.154328Z"
    }
   },
   "id": "9cc656eae27a8ee2"
  },
  {
   "cell_type": "markdown",
   "source": [
    "\n",
    "Double names are not removed, such as Selena, Gomez, and Selena Gomez.\n",
    "#### Current Keywords:\n",
    "Gossip, Selena, Selena Gomez, Gomez, Benny Blanco\n",
    "#### Desired Keywords:\n",
    "Gossip, Selena Gomez, Benny Blanco\n",
    "\n",
    "#### Current Keywords:\n",
    "Skating, Hein Otterspeer, Otterspeer, World Cup skating, Quebec, KNSB, Kjeld Nuis, Nuis\n",
    "#### Desired Keywords:\n",
    "Skating, Hein Otterspeer, World Cup skating, Quebec, KNSB, Kjeld Nuis\n",
    "\n",
    "Sometimes, for example, \"Paris\" is mentioned twice, once in English and once in Dutch.\n",
    "#### Current Keywords:\n",
    "Gossip, Paris-actress, Paris, Emily, Parijs, Ashley Park\n",
    "#### Desired Keywords:\n",
    "Gossip, Paris-actress, Emily, Paris, Ashley Park\n",
    "\n",
    "To fix this, I will use the OpenAI API."
   ],
   "metadata": {
    "collapsed": false
   },
   "id": "444beb85fb9ab5fd"
  },
  {
   "cell_type": "code",
   "execution_count": 4,
   "outputs": [],
   "source": [
    "client = OpenAI(api_key=apiKey)\n",
    "\n",
    "# Define a function to get OpenAI completion for a given set of keywords\n",
    "def get_openai_completion(keywords):\n",
    "    # Create completion request\n",
    "    completion = client.chat.completions.create(\n",
    "        model=\"gpt-3.5-turbo-0125\",\n",
    "        messages=[\n",
    "            {\"role\": \"system\", \"content\": \"je verwijderd dubbele keywords zoals namen en vertalingen, kiest voor volledige namen en nhet Nederlandse woord en geeft ze terug in lijst met kommas.  Please prefix the keywords with 'Keywords:'\"},\n",
    "            {\"role\": \"user\", \"content\": keywords}\n",
    "        ]\n",
    "    )\n",
    "    keywords_message = completion.choices[0].message\n",
    "    keywords_content = keywords_message.content\n",
    "\n",
    "    # Extracting words after 'Keywords:'\n",
    "    keywords = keywords_content.split('Keywords:')[1].strip().split(', ')\n",
    "    return keywords\n",
    "\n",
    "# Apply the function to each row of the 'Keywords' column\n",
    "df['Keywords'] = df['Keywords'].apply(get_openai_completion)"
   ],
   "metadata": {
    "collapsed": false,
    "ExecuteTime": {
     "end_time": "2024-04-03T13:48:50.120141Z",
     "start_time": "2024-04-03T13:41:29.310539Z"
    }
   },
   "id": "a586ca2682cf2d82"
  },
  {
   "cell_type": "code",
   "execution_count": 6,
   "outputs": [],
   "source": [
    "# Remove square brackets from the output\n",
    "df['Keywords'] = df['Keywords'].apply(lambda x: ', '.join(x))"
   ],
   "metadata": {
    "collapsed": false,
    "ExecuteTime": {
     "end_time": "2024-04-03T13:52:23.265921Z",
     "start_time": "2024-04-03T13:52:23.254024Z"
    }
   },
   "id": "e2936a3cbe43298f"
  },
  {
   "cell_type": "code",
   "execution_count": 7,
   "outputs": [],
   "source": [
    "# Save the DataFrame as an CSV-file\n",
    "df.to_csv('nu-articles-v3.csv', index=False)\n"
   ],
   "metadata": {
    "collapsed": false,
    "ExecuteTime": {
     "end_time": "2024-04-03T13:52:44.239569Z",
     "start_time": "2024-04-03T13:52:44.161918Z"
    }
   },
   "id": "c8f41d1195d1e565"
  },
  {
   "cell_type": "code",
   "execution_count": 6,
   "outputs": [
    {
     "name": "stdout",
     "output_type": "stream",
     "text": [
      "['Lando Norris', 'achterklap', 'Steven Spielberg', 'Kunstrijden', 'Boksen', 'Armoede', 'Céline Dion', 'Tesla', 'Rami Malek', 'AI-test', 'Sprinttalent', 'Coronavirus', 'Deena & Jim', 'Formule 2', 'Griselda', 'Bulgarije', 'Transferblog', 'Darts', 'Muziek', 'Tim Prins', 'Thuis', 'Grace Jabbari', 'Ceylin del Carmen Alvarado', 'WK darts', 'Epic Games', 'Spanningen Midden-Oosten', 'Zonnepanelen', 'Selena Gomez', 'NTR', 'Algemeen', 'Politiek', 'CDA', 'Abdul Malak', 'Qbuzz', 'Japan', 'Vluchtelingen', 'Tom Holland', 'Michael Smith', 'Shimon', 'Zorg', 'Ammar', 'coronavaccins', 'India', 'Oorlog Israël en Hamas', 'Schaatsen', 'JAXA', 'JA21', 'Houthi-rebellen', 'Syrië', 'Lucinda Brand', 'Zuid', 'Crowe', \"John van 't Schip\", 'Michael Shannon', 'Kanker', 'Verenigd Koninkrijk', 'Sjoemelsoftware', 'Prinses Beatrix', 'Hamas', 'Oostenrijkse Weissensee', 'James Allison', 'Aflossingsploeg', 'Sint-Pietersberg', 'Edward Sturing', 'Rik van de Westelaken', 'Terschelling', \"Jens van 't Wout\", 'Tech en Wetenschap', 'Jarco Havermans', 'Hollywoodtijd', 'Presentatrice Raisa X.', 'Lech Poznan', 'Emily', 'Basisbeurs', 'provincie Noord-Holland', 'Morrissey', 'Volendam', 'Lewis Hamilton', 'Europadeskundige Mathieu Segers', 'Afran Groenewoud', 'Anita', 'Bradley Cooper', 'Anthony Kiedis', 'NPO', 'Ahoy', 'Boek & Cultuur', 'Palestijnse Gebieden', 'Tennis', 'Luchtvaart', 'Provinciale Staten', 'Igor Paixão', 'Salt Lake City', 'Arnold Karskens', 'PowNed', 'Arsenal', 'Autosport', 'Esmée Dekker', 'Dubai', 'Gijs Staverman', 'IJshockey', 'Premier League', 'SC Heerenveen', 'Freek', 'Ueda', 'Tiny Hoekstra', 'Ernst Kuipers', 'Oorlog in Oekraïne', 'Eten en Drinken', 'Jan des Bouvrie', 'Frenkie de Jong', 'MKB', 'Dakar Rally', 'Wereldbeker veldrijden', 'Europese Commissie', 'Charles Leclerc', 'Westelijke Jordaanoever', 'KPN', 'Nederlandse handbalsters', 'Champions League', 'Ferrari-coureur', 'Pérez', 'El País', 'Emmy Awards', 'Søren Waerenskjold', 'Elliot Grainge', 'Nadine Visser', 'Oud-topman', 'Frode Numan', 'Kyivstar', 'Stockholm', 'Mathieu van der Poel', 'Hannah Ritchie', 'Feyenoord', 'Aston Villa', 'Veilingen', 'Ashley Park', 'Privacy', 'Seoel', 'ACM', '1-3-zege', 'Instagram', 'kerstdonuts', 'Virgil van Dijk', 'Noorwegen', 'Daniil Medvedev', 'ON!-baas', 'Volkswagen-topman', 'NUplus', 'Rico Verhoeven', 'Susie Wolff', 'Martijn Lakemeier', 'Israël en Hamas', 'Buitenland', 'Talpa', 'Jandino Asporaat', \"schildpadbaby's\", 'Nicole des Bouvrie', 'Ruimtevaart', 'Interim-coach', 'Alexandra van Huffelen', 'Geneesmiddelen', 'Jamie Cullum', 'nepcocaïne snuiven voor', 'Economie', 'maffiapraktijken', 'Sienna Miller.', 'Ajax Vrouwen', 'AlphaTauri', 'Tech', 'Zuid-Afrikaans elftal', 'Duurzaamheid', 'Landal GreenParks', 'Fossiele energie', 'Prem Radhakishun', 'Arjen Lubach', 'Frankrijk', 'John van den Brom', 'Herentals', 'Alphabet', 'Jezus', 'Saoedi-Arabië', 'VRT', 'NPO 3FM', 'Lemele', 'Aardbeving', 'Zeehondenopvang', 'Radio 2', 'Marilyn Manson', 'Zwarte', 'Neuralink', 'PSV', 'Sinterklaasgeheim', 'Willy Wonka', 'postcovid', 'Koningshuis', 'Betty Brussel', 'hydroxychloroquine', 'Google', 'Media en Cultuur', 'Tijjani Reijnders.', 'Gezondheid', 'Pliosaurus', 'AZ', 'Albert Heijn', 'Walid Regragui', 'alikruik', 'Elon Musk', 'Tommy Lee', 'Misdaad', 'buitenland', 'Nicki Minaj', 'Wonen', 'Tiny Kox', 'Mark Meijer', 'Marc Bonten', 'Eredivisie', 'AC/DC', 'Engeland', 'Rijksoverheid', 'Sofia', 'Peugeot', 'Ostrava', 'Nottingham', 'Samer', 'BBC News', 'Jumbo', 'AVROTROS', 'Texel', 'Vrouwenvoetbal', 'Gigi Hadid', 'Cher', 'Consument', 'NUcheckt', 'Colin Burgess', 'Colorado', 'Pieter Baan Centrum', 'Apothekers', 'irobot', 'Top 2000', 'Emma van Bergeijk', 'Nick & Simon', 'Hilary Duff', 'Internationale Organisatie voor Migratie', 'Eddy Keur', 'Jon Fosse', 'MGN', 'Rusland', 'Elmasoglu', 'Roompot', 'Premier League Darts', 'World Cup schaatsen', 'TikTok', 'Kamp-Boadu', 'TMZ', 'kamer', 'Sjakie', 'Britney Spears', 'Godmother van Amsterdam', 'Duiven', 'Emmy', 'Leiden', 'Groot-Brittannië', 'Yuki Tsunoda', 'Albert Verlinde', 'People', 'Festivals', 'Wielrennen', 'pizzaiolo', 'Migratie', 'Volkswagen', 'Muziekconcern', 'Kfar Azar', 'Jim Bakkum', 'FC Volendam', 'Robert de Hoog', 'Heracles Almelo', 'Adele', 'Corinne Bailey', 'Formule 1', 'Israël', 'schaatsen', 'Monique Westenberg', 'Manchester United', 'Hugh Grant', 'kinderen', 'Fortnite', 'Fiat', 'Grammy', 'Rob Mooij', 'Werk', 'Wolf Man-film', 'Denemarken', 'North Sea Jazz Festival', 'Turkije', 'klimt', 'Antarctica', 'Almere City', 'Fleurtje ten huwelijk', 'Éric Cantona', 'Nikolas Agrafiotis', 'Erasmus MC', 'Max Verstappen', 'Voetbal', 'Tweede Kamer', 'Maastricht', 'Pascal P.', 'Achtergronden', 'Verpieterde', 'Atlantische Oceaan', 'Irak', 'Lotte Verbeek', 'Tanja D.', 'Kunst', 'Tsjechië', 'Films & Series', 'Goed nieuws', 'Juicevlogger', 'SP-politicus', 'Emma Hoffman', 'Gaza', 'Lowlands', 'Noord-Holland', 'Afrika', 'Vladimir Poetin', 'Citroën', 'Stanley', 'René Muthert', 'Jaap van Dissel', 'Michael Dingsdag', 'Loempa', 'Friends', 'Duitsland', 'Internet', 'Wereldbeker Shorttrack', 'Partij voor de Dieren', 'Luton', 'Google Play', 'Ronhaar', 'Den Haag', 'Vervuiling', 'AVG', 'Lufthansa Group', 'Uitgelicht', 'Stanley Hotel', 'Kerstmis', 'Martin Winterkorn', 'Christian', 'Dick', 'Monaco', 'Ecomare', 'Indonesië', 'Nederlandse Boksbond', 'Gernot Trauner', 'RS-virus', 'Ternauwernood', 'shorttrack', 'Russell Wilson', 'Wij', 'Susie', 'Radio', 'Woningmarkt', 'Recensieoverzicht Wonka', 'Gloria', 'Beleggen', 'Doof', 'Fransman Laidouni', 'Brits koningshuis', 'Arbeidsmarkt', 'Autoriteit Consument & Markt', 'Berlijn', 'Luchtzuiverende', 'RTL', 'Timothee Chalamet', 'Masters', 'World Health Organization', 'koning Charles', 'Suzan', 'Stage', 'Aanslag tram Utrecht', 'Kalmte', 'Jesus Christ Superstar', 'Cardiff', 'Simon Keizer', 'Europese Unie', 'drinken', 'Lynn Hirschberg', 'Parkeerapp', 'Pfizer', 'Recensieoverzicht', 'Shorttrack', 'Eredivisie-speler', 'Reizen', 'Wetenschap', 'Hongarije', 'Dieselschandaal', 'Gerard Depardieu', 'Geld', 'Eric van der Burg', 'Joost', 'Kabinet Rutte IV', 'René Lammers', 'Weer', 'Mats Wieffer', 'Alphen', 'Klimaat', 'Qatar', 'Johan Derksen', 'Handbalsters', 'Boeken', 'ADO', 'Selma Poutsma', 'Daan de Ridder', 'Trainer Van den Brom', 'RB20', 'nacht', 'Marieke Dekker', 'Advertenties', 'Dylan Groenewegen', 'Prachtgoal Hoekstra', 'Dieren', 'Poznan', 'Zussen-serie', 'Toro Rosso', 'Booking', 'Jonathan Majors', 'Volkskrant', 'OM', 'Parijs', 'Zuid-Afrika', 'Anthony Ramos', 'Britney Army', 'Veldrijden', 'Memphis Depay', 'Cupido', 'CO2-uitstoot', 'Maxime Meiland', 'Slimmer leven', 'Lionel Richie', 'Dormio Group', 'Shannen Doherty', 'Dorset', 'West Side', 'EK handbal', '0-2-nederlaag', 'Marleen Zomer', 'MP Motorsport', 'Cardi B', 'oceanen', \"Auto's\", 'Monique', 'onderzoek', 'tips', 'Binnen- en buitenland', 'Libië', 'Paul Groot', 'Karin Radstaak', 'wonen', 'Patrick Roest', 'Nuremberg', 'Speelgoedbanken', 'Abe Lenstra', 'Nadja Hüpscher', 'FIA', 'Beurzen', 'Stelling en Praat Mee', 'Sun Protection Factor', 'PEC Zwolle', 'Regius College', 'Verzekeringen', 'voetbal', 'Zürich', 'Femke Kok', 'Monegask', 'Rima', 'Suzanne Bakker', 'Lizzy', 'Bretly D.', 'Gerard Joling', 'Onderwijs', 'Sergio Pérez', 'Paris', 'economie', 'eten', 'Halle Berry', 'Tokio', 'Kevin Doets', 'Siberië', 'Verenigde Staten', 'IOM', 'Tom Hanks', 'Hop', 'Australië', 'R-E-N', 'RIVM', 'Joe Manganiello', 'Peter Schouten', 'Schagen', 'AC Milan', 'Saïd Hamulic', 'Tabak en roken', 'Kenia', 'banaan', 'Timothée Chalamet', 'Stichting Data', 'Edisons', 'Onderzoeksinstituut Nivel', 'KNMP Farmanco', 'DPG Media', 'wb shorttrack', 'Ünüvar', 'NWS', 'Jean-Marc', 'Russell', 'Mirror Group Newspapers', 'La Liga', 'Valieva', 'Adam Maher', 'Panterprintjes', 'Coronavaccins', 'Microsoft', 'Langdurige covid', 'Omroep West.', 'Eindexamens', 'Sofia Vergara', 'Maarten van Ooijen', 'Yvonne Coldeweijer', 'Amsterdam', 'Vakantie', 'Wanhoop', '1-2-zege', 'Neurenbergproces', 'Kamila Valieva', 'Pompeï', 'Tom Lockyer', 'Extreem weer', 'Peking', 'Sc Heerenveen', 'Champions League Vrouwen', 'Blerick', 'B&B Vol Liefde', 'IEA', 'pizza', 'Lufthansa', 'Tom Pidcock', 'Transfernieuws', 'Huursector', 'Ariana Grande', 'Khan Younis', 'NSC', 'AD', 'Maersk', 'Athletic Club', 'Terneuzen', 'Rob Roos', \"sms'jes\", 'Italië', 'SNBN', 'PVV.', 'Milan van Waardenburg.', 'Chris Rock', 'Explosies', 'Zwolle', 'Fernand Banning', 'Steenkool', 'Toulouse', 'Spanje', 'Kay Smits', 'FNV', 'Ronald Haasjes', 'Excelsior', 'Black Pumas', 'Oorlog', 'Anne-Lot Hoek', 'Oprah Winfrey', 'Uitgelicht sport', 'duiken', 'Jett Rebel', 'Ouderdom', 'BAT', 'Arne Slot', 'Miljuschka Witzenhausen', 'Rotterdam', 'Bitcoins', 'CBS', 'Handbal', 'GP Spanje', 'cowboycactus', 'Jeangu Macrooy', 'Napels', 'ATP Rosmalen', 'Job van der Plicht', 'Tessa Snoek', 'herten', 'Gemini', 'Amsterdamse Waterleidingduinen', 'Eten en drinken', '3FM', 'Jürgen Klopp', 'Little Mix', 'Marokko', 'Kaunas', 'Raisa Blommestijn', 'Borna Sosa', 'Parijse hotelkamer', 'klimaatstress', 'Tallon Griekspoor', 'Buddy Vedder', 'Media', 'Brexit', 'Januari', 'Opel', 'Marokkaans elftal', 'Kind & Gezin', 'Alec Baldwin', 'BNNVARA', 'Ko Colijn', 'Harry Potter', 'Florence', 'Hans Kluge', 'Patricia Paay', 'Amy Jackson', 'PowNed verslag.', 'Windows', 'Keanu Reeves', 'Leenstelsel', 'Vis', 'Justin Timberlake', 'Sofian Laidouni', 'Griselda Blanco', 'Sanne Oving', 'Toto Wolff', 'Casper van Uden', 'Snotterig', 'Vrouwen Eredivisie', 'Venlo', 'Hollywood-sterren', 'Nepnieuws', 'dieren', 'Sivan', 'Atletiek', 'Geschiedenis', 'Kunstmatige intelligentie', 'New York', 'Robert De Niro', 'Stichting Nederlanders', 'Boeren', 'Yesilgöz', 'Discriminatie en racisme', 'Claudia de Breij', 'Matthew Perry', 'e3', 'scholen', 'kamers', 'ChatGPT', 'Naci', 'Zoon', 'Edison', 'SV Wehen Wiesbaden', 'Milieu', 'coronabesmettingen', 'John Frusciante', 'murgh makhani', 'Simone Kleinsma', '3.400 pond', 'Heerenveen', 'Smith', 'Jennifer Lopez', 'WHO', 'Santa Claus', 'Monza', 'Gino Sorbillo', 'Kevin', 'Vuurwapen', 'NAVO', 'Novo Nordisk', 'Sherida Spitse', 'Noordwijk', 'Carine Herrygers', 'Megan Thee Stallion', 'Eerste Kamer', 'Kelly Clarkson', 'NU.nl', 'Omroep West', 'Nederland', 'Vakanties', 'James Webb-telescoop', 'Red Bull Racing', 'Serie A', 'Kjeld Nuis', 'Hannover', 'Istanboel', 'Londen', 'Rijn', 'WK handbal', 'Benjamin Netanyahu', 'Bas van Toor', 'DPG', 'Zwangerschap', 'Tim Hofman', 'Calvin Stengs', 'NS Publieksprijs-winnaar', 'Hein Otterspeer', 'Gian van Veen', 'Klimaattop', 'Goldband', 'Dirk Kuijt', 'Kickboksen', 'Lindsay van Zundert', 'Misdaad in Nederland', 'Iran', 'Geëmotioneerde Sophie', 'André Hazes', 'Meta', 'Musicals', 'Wendy van Dijk', 'Datalekken', 'Mediamuseum', 'Lieke Klaver', 'Ed Westwick', 'FC Barcelona', 'NOS Sport', 'Kees van Wonderen', 'Natuur', 'Joss Stone', 'Bob de Bouwer', 'Sven Kramer', '2 Chainz', 'Wout', 'Boris Johnson', 'Fem van Empel', 'Kind en Gezin', 'Games', 'Media en Cultuur,', 'Mikel Arteta', 'Schengen', 'Amstelveen', 'May and go away', 'gezondheid', 'Hakim Ziyech', 'Kopenhagen', 'Tony Award', 'Journalistiek', 'Klimaattop Dubai', 'Froukje', 'telecom', 'Cultuur', 'Oekraïne', 'Los Angeles', 'Mercedes', 'Twente', 'Songfestival', 'Westoever', 'Jada Pinkett Smith', 'nepdrugs', 'Jeroen Krabbé', 'Sophie Hilbrand', 'FC Twente', 'Feiten en cijfers', 'Angela Groothuizen', 'Valencia', '#BOOS', 'binnenland', 'Hansons', 'F1', 'SAG', 'Formatie 2023', 'Gazastrook', 'SDBN', 'Suriname', 'Amazon', 'Ravi Beeuwkes', 'Jan Lammers', 'VodafoneZiggo', 'Oscar', 'Mark Rutte', 'Serious Request', 'Liverpool', \"Kata'ib Hezbollah\", 'VVD', 'Novak Djokovic', 'Sport Overig', 'Alternatieve elfstedentocht', 'andere media', 'Bassie en Adriaan', 'Utrecht', 'Maya Weug', 'Red Hot Chili Peppers', 'Daan Schuurmans', 'CL-succes', 'Formule 3', 'Leigh-Anne Pinnock', 'Booking.com', 'wereldbeker shorttrack', 'KNMI', 'Gazaconflict-update', 'Scheikundigen', 'Nieuws', 'Energie', 'Duitse Noordzee', 'Hilversum', 'Pieter Baan', 'Khalid Kasem', 'Heelal en ruimtevaart', 'Dirk van Duijvenbode', 'Tom Hollander', 'Hollywood Reporter', 'World Cup', 'Luke Littler', 'Prinses Amalia', 'RAM', 'Sell', 'Dilrosun', 'Kim Kardashian', 'Koloniale geschiedenis', 'Atlético Madrid', 'Neuralink-baas', 'Pakistan', \"Légion d'Honneur\", 'Jean Valjean', 'ministerie van Buitenlandse Zaken', 'Isabelle Adjani', 'Binnenland', 'Canada', 'Chris Peters', 'Doemdenken', 'stad München', 'Israëlisch-Palestijns conflict', 'NUjij', 'Geert Wilders', 'koopjeshoek.', 'Sinterklaas', 'Asielopvang', 'Oostenrijk', 'Zweden', 'KNSB', 'Ferrari', 'Delfina Chaves', 'Erkan', 'BBC', 'StukTV', 'Van Huffelen', 'Nederlands', 'Ayase', 'Unie van Waterschappen', 'Dagelijks leven', 'Eten & Drinken', 'Christian Horner', 'Gary Anderson', 'Debbie de Jong', 'Alexandra Palace', 'D66', 'Ajax', 'EU', 'Twitter', 'Ally Pally', 'Den Bosch', 'The Guardian', 'Adobe', 'RB Formula One', 'Benny Blanco', 'Prins Harry', 'Jeugdzorg', 'slimmer leven', 'Tiffany Haddish', 'Nederlandse massaclaim', 'Tim Meyerjürgens', 'Steven Bergwijn', 'Thomas Kennes', \"Jens van 't\", 'Hollywood', 'Musea', 'Jennifer Aniston', 'Guur', 'IVN Natuureducatie', 'Sixt', 'Quebec', 'Ted', 'Gomes', 'Anouk', 'Michael van Gerwen', 'Bournemouth', 'Will Smith', 'opvoeding', 'Grensoverschrijdend gedrag', 'Cryptovaluta', 'Roermond', 'Gérard', 'België', 'Stikstof', 'Estaimpuis', 'Peter R. de Vries', 'Actrice', 'Debutant', \"Zzp'ers\", 'Supermarkten', 'Nellie Benner', 'Andries Noppert', 'Klaas Knot', 'Nijmegen', 'Stress', 'Chita Rivera', 'beginnen', 'Academy', 'Bieren', 'Zaterdagavond', 'Jennifer Hudson', 'Politie-eenheid Rotterdam', 'Kerstman', 'World Cup Salt Lake City', 'Neergestoken', 'Elisabeth', 'Dilan Yesilgöz', 'Bondscoach Marokko', 'Patty Brard', 'Ongehoord Nederland', 'grimeur Arjen Tuiten', 'Penélope Cruz', 'Universiteit van Hongkong', 'Paramaribo', 'Gustav Klimt', 'Vitesse', 'Jordan Stolz', 'Thailand', 'World Cup Schaatsen', 'Mentale gezondheid', 'Jupiter', 'Taylor Swift', 'Martin Scorsese', 'Madrid', 'Oranje', 'January', 'Paul de Leeuw', 'lenteschoonmaak', 'Detlef van der Velde', 'Whoopi', 'Tomaszów', 'Ciara', 'Tel Aviv', 'Tilburg', 'BBB', 'Olympische Spelen', 'Desi Bouterse', 'Onbewezen', 'Dennis Schouten', 'Heelal', 'Van der Garde', 'Roald Dahls', 'Oranje Nassau', 'Brussel', 'Barbra Streisand', 'Achterklap', 'Ameland', 'GLORY', 'Kate', 'Broadway', 'TNO', 'Maan de Steenwinkel', 'Ivo van Hove', 'E.T.', 'Stagevergoedingen', 'Sigrid Kaag', 'Transparency International', 'Sparta Rotterdam', 'Jeep', 'McLaren', 'Polen', 'Sef', 'Handballers', 'Irene Schouten', 'koning Carl Gustaf', 'Uber', 'Kijkduin', 'Tom Egbers', 'Shein', 'Afrika Cup', 'Tweede Wereldoorlog', 'Ronnie Flex', 'Schiphol', 'Jazeera', 'Daniel Ricciardo', 'Janke Dekker', 'Jimmy Kimmel Live', 'Europa', 'Jemen', 'Jeff Bridges', 'Droogte', 'Stefan Jurriens', 'Netflix', 'HCQ', 'Xandra Velzeboer', 'Jan de Rooy', 'MSC', 'Opmerkelijk']\n"
     ]
    }
   ],
   "source": [
    "df = pd.read_csv('nu-articles-v3.csv')\n",
    "\n",
    "# Split each string by commas and concatenate all lists\n",
    "all_keywords = []\n",
    "for keywords_str in df['Keywords']:\n",
    "    keywords_list = keywords_str.split(', ')\n",
    "    all_keywords.extend(keywords_list)\n",
    "\n",
    "# Print the combined list\n",
    "# print(all_keywords)\n",
    "\n",
    "# Convert the combined list to a set to remove duplicates, then convert it back to a list\n",
    "unique_keywords = list(set(all_keywords))\n",
    "\n",
    "# Print the unique keywords list\n",
    "print(unique_keywords)"
   ],
   "metadata": {
    "collapsed": false,
    "ExecuteTime": {
     "end_time": "2024-04-03T14:21:47.070371Z",
     "start_time": "2024-04-03T14:21:47.025403Z"
    }
   },
   "id": "c6600388d5f5c50f"
  }
 ],
 "metadata": {
  "kernelspec": {
   "display_name": "Python 3",
   "language": "python",
   "name": "python3"
  },
  "language_info": {
   "codemirror_mode": {
    "name": "ipython",
    "version": 2
   },
   "file_extension": ".py",
   "mimetype": "text/x-python",
   "name": "python",
   "nbconvert_exporter": "python",
   "pygments_lexer": "ipython2",
   "version": "2.7.6"
  }
 },
 "nbformat": 4,
 "nbformat_minor": 5
}
